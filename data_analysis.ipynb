{
 "cells": [
  {
   "cell_type": "code",
   "execution_count": 327,
   "metadata": {
    "collapsed": false
   },
   "outputs": [],
   "source": [
    "# Udacity Final Project - Python Data Analysis\n",
    "# David Petersen djpetersen@gmail.com 4153363948\n",
    "\n",
    "# Import county-level Presidential election data from 2016, correct data problems.\n",
    "# Import county-level Presidential election data from 2016, update with information\n",
    "# from a second source. Merge two datasets at the county level and analyze vote \n",
    "# totals to understand who came out to vote in key geographic areas.\n",
    "\n",
    "import numpy as np\n",
    "import pandas as pd\n",
    "import seaborn as sns"
   ]
  },
  {
   "cell_type": "code",
   "execution_count": 485,
   "metadata": {
    "collapsed": false
   },
   "outputs": [],
   "source": [
    "def float_maker(dataset,field):\n",
    "    '''Convert a field to float for formatting'''\n",
    "    field_float = dataset[field] / 1.0 \n",
    "    return field_float"
   ]
  },
  {
   "cell_type": "code",
   "execution_count": 496,
   "metadata": {
    "collapsed": true
   },
   "outputs": [
    {
     "name": "stdout",
     "output_type": "stream",
     "text": [
      "State           AlaskaAlabamaAlabamaAlabamaAlabamaAlabamaAlaba...\n",
      "County          AlaskaAutaugaBaldwinBarbourBibbBlountBullockBu...\n",
      "Trump_2016                                             61,124,679\n",
      "Clinton_2016                                           62,389,795\n",
      "Reporting                                                   4,568\n",
      "dtype: object\n",
      "                Trump_2016  Clinton_2016  Reporting\n",
      "State                                              \n",
      "Alabama          1,306,925       718,084         67\n",
      "Alaska             130,415        93,007          1\n",
      "Arizona          1,021,154       936,250         15\n",
      "Arkansas           677,904       378,729         75\n",
      "California       3,841,134     7,230,699         58\n",
      "Colorado         1,137,455     1,212,209         64\n",
      "Connecticut        668,266       884,432        167\n",
      "DC                  11,553       260,223          1\n",
      "Delaware           185,103       235,581          3\n",
      "Florida          4,605,515     4,485,745         67\n",
      "Georgia          2,068,623     1,837,300        159\n",
      "Hawaii             128,815       266,827          4\n",
      "Idaho              407,199       189,677         44\n",
      "Illinois         2,118,179     2,977,498        102\n",
      "Indiana          1,556,220     1,031,953         92\n",
      "Iowa               798,923       650,790         99\n",
      "Kansas             656,009       414,788        105\n",
      "Kentucky         1,202,942       628,834        120\n",
      "Louisiana        1,178,004       779,535         64\n",
      "Maine              334,838       354,873        498\n",
      "Maryland           873,646     1,497,951         24\n",
      "Massachusetts    1,083,069     1,964,768        351\n",
      "Michigan         2,279,210     2,267,373         83\n",
      "Minnesota        1,322,891     1,366,676         87\n",
      "Mississippi        678,457       462,001         82\n",
      "Missouri         1,585,753     1,054,889        115\n",
      "Montana            274,120       174,521         56\n",
      "Nebraska           485,819       273,858         93\n",
      "Nevada             511,319       537,753         17\n",
      "New Hampshire      345,598       348,126        237\n",
      "New Jersey       1,535,513     2,021,756         21\n",
      "New Mexico         315,875       380,724         33\n",
      "New York         2,640,570     4,143,874         62\n",
      "North Carolina   2,339,603     2,162,074        100\n",
      "North Dakota       216,133        93,526         53\n",
      "Ohio             2,771,984     2,317,001         88\n",
      "Oklahoma           947,934       419,788         77\n",
      "Oregon             742,506       934,631         36\n",
      "Pennsylvania     2,912,941     2,844,705         67\n",
      "Rhode Island       179,421       249,902         39\n",
      "South Carolina   1,143,611       849,469         46\n",
      "South Dakota       227,701       117,442         66\n",
      "Tennessee        1,517,402       867,110         95\n",
      "Texas            4,681,590     3,867,816        254\n",
      "Utah               451,598       273,925         25\n",
      "Vermont             95,050       178,117        246\n",
      "Virginia         1,731,156     1,916,845        133\n",
      "Washington       1,129,120     1,610,524         27\n",
      "West Virginia      486,198       187,457         55\n",
      "Wisconsin        1,409,467     1,382,210         72\n",
      "Wyoming            174,248        55,949         23\n"
     ]
    }
   ],
   "source": [
    "# ***Import 2016 vote counts by county from microsoft excel***\n",
    "spreadsheet_2016 = pd.ExcelFile('/Users/David/Github/Udacity_Data_Analysis/election_2016.xlsx')\n",
    "#print spreadsheet_2016.sheet_names # get names of sheets\n",
    "df_2016 = spreadsheet_2016.parse('election_2016')\n",
    "df_2016.rename(columns={'Trump':'Trump_2016','Clinton':'Clinton_2016'}, inplace=True)\n",
    "\n",
    "df_2016['Trump_2016'] = float_maker(df_2016,'Trump_2016')\n",
    "df_2016['Clinton_2016'] = float_maker(df_2016,'Clinton_2016')\n",
    "\n",
    "# Calculate total votes - approx 60M for each candidate\n",
    "# Note: 2016 totals still preliminary until likely end of December (absentees, etc)\n",
    "federal_totals_2016 = df_2016.sum() # national level\n",
    "print federal_totals_2016\n",
    "state_totals_2016 = df_2016.groupby('State').sum() # state level\n",
    "print state_totals_2016"
   ]
  },
  {
   "cell_type": "code",
   "execution_count": 508,
   "metadata": {
    "collapsed": true
   },
   "outputs": [
    {
     "data": {
      "text/html": [
       "<div>\n",
       "<table border=\"1\" class=\"dataframe\">\n",
       "  <thead>\n",
       "    <tr style=\"text-align: right;\">\n",
       "      <th></th>\n",
       "      <th>State</th>\n",
       "      <th>County</th>\n",
       "      <th>Trump_2016</th>\n",
       "      <th>Clinton_2016</th>\n",
       "      <th>Reporting</th>\n",
       "      <th>state_name</th>\n",
       "      <th>state_abbreviation</th>\n",
       "    </tr>\n",
       "  </thead>\n",
       "  <tbody>\n",
       "    <tr>\n",
       "      <th>0</th>\n",
       "      <td>Alaska</td>\n",
       "      <td>Alaska</td>\n",
       "      <td>130,415</td>\n",
       "      <td>93,007</td>\n",
       "      <td>1</td>\n",
       "      <td>Alaska</td>\n",
       "      <td>AK</td>\n",
       "    </tr>\n",
       "    <tr>\n",
       "      <th>1</th>\n",
       "      <td>Alabama</td>\n",
       "      <td>Autauga</td>\n",
       "      <td>18,110</td>\n",
       "      <td>5,908</td>\n",
       "      <td>1</td>\n",
       "      <td>Alabama</td>\n",
       "      <td>AL</td>\n",
       "    </tr>\n",
       "    <tr>\n",
       "      <th>2</th>\n",
       "      <td>Alabama</td>\n",
       "      <td>Baldwin</td>\n",
       "      <td>72,780</td>\n",
       "      <td>18,409</td>\n",
       "      <td>1</td>\n",
       "      <td>Alabama</td>\n",
       "      <td>AL</td>\n",
       "    </tr>\n",
       "    <tr>\n",
       "      <th>3</th>\n",
       "      <td>Alabama</td>\n",
       "      <td>Barbour</td>\n",
       "      <td>5,431</td>\n",
       "      <td>4,848</td>\n",
       "      <td>1</td>\n",
       "      <td>Alabama</td>\n",
       "      <td>AL</td>\n",
       "    </tr>\n",
       "    <tr>\n",
       "      <th>4</th>\n",
       "      <td>Alabama</td>\n",
       "      <td>Bibb</td>\n",
       "      <td>6,733</td>\n",
       "      <td>1,874</td>\n",
       "      <td>1</td>\n",
       "      <td>Alabama</td>\n",
       "      <td>AL</td>\n",
       "    </tr>\n",
       "  </tbody>\n",
       "</table>\n",
       "</div>"
      ],
      "text/plain": [
       "     State   County  Trump_2016  Clinton_2016  Reporting state_name  \\\n",
       "0   Alaska   Alaska     130,415        93,007          1     Alaska   \n",
       "1  Alabama  Autauga      18,110         5,908          1    Alabama   \n",
       "2  Alabama  Baldwin      72,780        18,409          1    Alabama   \n",
       "3  Alabama  Barbour       5,431         4,848          1    Alabama   \n",
       "4  Alabama     Bibb       6,733         1,874          1    Alabama   \n",
       "\n",
       "  state_abbreviation  \n",
       "0                 AK  \n",
       "1                 AL  \n",
       "2                 AL  \n",
       "3                 AL  \n",
       "4                 AL  "
      ]
     },
     "execution_count": 508,
     "metadata": {},
     "output_type": "execute_result"
    }
   ],
   "source": [
    "# Add state abbreviations to 2016 dataset for downstream merge with 2012\n",
    "state_abbreviations = pd.ExcelFile('/Users/David/Github/Udacity_Data_Analysis/state_abbreviations.xlsx')\n",
    "# print state_abbreviations.sheet_names # get names of sheets\n",
    "df_abbrev = state_abbreviations.parse('Sheet1') # Create pandas dataframe\n",
    "# print df_2016.head() # checked - file has State and County\n",
    "# print df_abbrev.head() # checked - file has state_name and state_abbreviation\n",
    "\n",
    "df_2016_final = pd.merge(df_2016, df_abbrev, how='left', left_on = ['State'],\n",
    "    right_on = ['state_name'])\n",
    "\n",
    "df_2016_final.head() # checking results - OK"
   ]
  },
  {
   "cell_type": "code",
   "execution_count": 509,
   "metadata": {
    "collapsed": true
   },
   "outputs": [],
   "source": [
    "# ***Import 2012 vote counts by county from Microsoft excel***\n",
    "spreadsheet_2012 = pd.ExcelFile('/Users/David/Github/Udacity_Data_Analysis/election_2012.xlsx')\n",
    "# print spreadsheet_2012.sheet_names # determine sheet names\n",
    "df_2012 = spreadsheet_2012.parse('full_data')\n",
    "#print df_2012[df_2012['state_postal'] == 'DC']"
   ]
  },
  {
   "cell_type": "code",
   "execution_count": 510,
   "metadata": {
    "collapsed": true
   },
   "outputs": [
    {
     "name": "stdout",
     "output_type": "stream",
     "text": [
      "        county_num  FIPS_code  total_votes  order_1   votes_1  order_2  \\\n",
      "name_1                                                                   \n",
      "Goode       386919     515983      2419698      384      5807       64   \n",
      "Obama    114699993  127309660    103745130     4031  53009878     8124   \n",
      "Romney     6691798    7784085     16076578      928   8083506      602   \n",
      "Stein      1305435    1421841       923301      203      3378      174   \n",
      "\n",
      "         votes_2  order_3   votes_3  order_4  votes_4  order_5  votes_5  \n",
      "name_1                                                                   \n",
      "Goode    1238490      128 1,125,391      576   32,262      832    6,894  \n",
      "Obama   49029018   12,667   696,374   15,525  366,880    8,677  289,944  \n",
      "Romney   6994402    1,926   905,565    1,486   63,456      699    7,934  \n",
      "Stein        345       58   671,747       29  229,463      145   11,071  \n",
      "         county_num  FIPS_code  total_votes  order_1   votes_1  order_2  \\\n",
      "name_2                                                                    \n",
      "Johnson     1887159    2072116      1921363       92   1049507      184   \n",
      "La Riva     1305435    1421841       923301      203      3378      174   \n",
      "Obama       5191558    6227952     16574913     1220   7039806      482   \n",
      "Romney    114699993  127309660    103745130     4031  53009878     8124   \n",
      "\n",
      "          votes_2  order_3   votes_3  order_4  votes_4  order_5  votes_5  \n",
      "name_2                                                                    \n",
      "Johnson     16060       46   845,756      138    4,709      230    5,331  \n",
      "La Riva       345       58   671,747       29  229,463      145   11,071  \n",
      "Obama     8216832    2,008 1,185,200    1,924   91,009    1,301    9,497  \n",
      "Romney   49029018   12,667   696,374   15,525  366,880    8,677  289,944  \n"
     ]
    }
   ],
   "source": [
    "# Resolving 2012 data problems\n",
    "# drop FIPs code = 0 in 2012 dataset, it was used to indicate state totals\n",
    "df_2012 = df_2012[df_2012.FIPS_code != 0] \n",
    "\n",
    "# Check to see if columns have mixed names\n",
    "print df_2012.groupby('name_1').sum()\n",
    "print df_2012.groupby('name_2').sum()\n",
    "# Resulting answer is \"yes\", last_name not always same candidate, will need to fix\n"
   ]
  },
  {
   "cell_type": "code",
   "execution_count": 511,
   "metadata": {
    "collapsed": false
   },
   "outputs": [],
   "source": [
    "def find_votes(dataset,candidate):\n",
    "    '''Create a function that can find the number of votes for a given\n",
    "    candidate, regardless of their position in the file'''\n",
    "    votes = []\n",
    "    start_col = 9 # this is where vote and candidate starts in df\n",
    "    col_count = len(dataset.columns)\n",
    "    candidate_col = range(start_col,col_count)\n",
    "    for i, r in dataset.iterrows(): # iterate over rows\n",
    "        for k in candidate_col: # iterate over columns\n",
    "            if r[k] == candidate:\n",
    "                votes.append((r[k+1])) # votes always in col next to candidate\n",
    "    return votes"
   ]
  },
  {
   "cell_type": "code",
   "execution_count": 512,
   "metadata": {
    "collapsed": true
   },
   "outputs": [
    {
     "name": "stdout",
     "output_type": "stream",
     "text": [
      "62301929.0\n",
      "58909662.0\n"
     ]
    }
   ],
   "source": [
    "# Find Obama and Romney votes, append to original dataframe\n",
    "df_2012['Obama'] = find_votes(df_2012,'Obama')\n",
    "df_2012['Romney'] = find_votes(df_2012,'Romney')\n",
    "# Calculate 2012 vote totals\n",
    "print df_2012['Obama'].sum()\n",
    "print df_2012['Romney'].sum()\n",
    "# Votes totals are 4M short for each candidate, looks like \n",
    "# county level results were not posted as final"
   ]
  },
  {
   "cell_type": "code",
   "execution_count": 513,
   "metadata": {
    "collapsed": false
   },
   "outputs": [],
   "source": [
    "# I found another data source (Wikipedia) which had county level data\n",
    "# finalized for many, but not all states. Will use to update my 2012 information.\n",
    "# Import 2012 county updates from microsoft excel\n",
    "spreadsheet_2012_update = pd.ExcelFile('/Users/David/Github/Udacity_Data_Analysis/updates_2012.xlsx')\n",
    "#print spreadsheet_2016.sheet_names # get names of sheets\n",
    "df_2012_update = spreadsheet_2012_update.parse('Sheet1')"
   ]
  },
  {
   "cell_type": "code",
   "execution_count": 522,
   "metadata": {
    "collapsed": true
   },
   "outputs": [],
   "source": [
    "# Find keys to merge original 2012 dataset and update counties\n",
    "# print df_2012.head() # Result: Need state_postal and county_name\n",
    "# print df_2012_update.head() # Result: Need State and County\n",
    "\n",
    "# Merge 2012 datasets to get updates\n",
    "df_2012_final = pd.merge(df_2012, df_2012_update, how='left', left_on = ['state_postal', 'county_name'],\n",
    "    right_on = ['State', 'County'])\n",
    "\n",
    "# print df_2012_final.head() # Data checking\n",
    "# print df_2012_final.describe() # Data checking"
   ]
  },
  {
   "cell_type": "code",
   "execution_count": 523,
   "metadata": {
    "collapsed": true
   },
   "outputs": [
    {
     "name": "stdout",
     "output_type": "stream",
     "text": [
      "state_postal    AKALALALALALALALALALALALALALALALALALALALALALAL...\n",
      "key             AK AlaskaAL AutaugaAL BaldwinAL BarbourAL Bibb...\n",
      "county_num                                              123084145\n",
      "FIPS_code                                               137031569\n",
      "county_name     AlaskaAutaugaBaldwinBarbourBibbBlountBullockBu...\n",
      "key_2           AK AlaskaAL AutaugaAL BaldwinAL BarbourAL Bibb...\n",
      "Obama_2012                                             64,863,657\n",
      "Romney_2012                                            60,352,239\n",
      "dtype: object\n"
     ]
    }
   ],
   "source": [
    "# Create new final vote totals as max(original data, updated data)\n",
    "df_2012_final['Obama_2012'] = df_2012_final[['Obama_x','Obama_y']].apply(max, axis=1) # drop NaNs\n",
    "df_2012_final['Romney_2012'] = df_2012_final[['Romney_x','Romney_y']].apply(max, axis=1) # drop NaNs\n",
    "df_2012_final.drop(df_2012_final.columns[6:33], axis=1, inplace = True)\n",
    "df_2012_final['Obama_2012'] = float_maker(df_2012_final,'Obama_2012')\n",
    "df_2012_final['Romney_2012'] = float_maker(df_2012_final,'Romney_2012')\n",
    "print df_2012_final.sum() # note: this added about 2M votes to each candidates totals\n"
   ]
  },
  {
   "cell_type": "code",
   "execution_count": 525,
   "metadata": {
    "collapsed": true
   },
   "outputs": [
    {
     "name": "stdout",
     "output_type": "stream",
     "text": [
      "       county_num  FIPS_code  Obama_2012  Romney_2012\n",
      "count       4,588      4,588       4,588        4,588\n",
      "mean       26,827     29,867      14,138       13,154\n",
      "std        13,278     14,051      59,964       37,020\n",
      "min         1,001      1,001           0            0\n",
      "25%        18,023     21,044         792        1,043\n",
      "50%        24,028     27,056       2,507        3,680\n",
      "75%        39,018     42,036       6,988        9,826\n",
      "max        51,408     56,045   2,216,903      885,333\n",
      "       Trump_2016  Clinton_2016  Reporting\n",
      "count       4,586         4,586      4,586\n",
      "mean       13,329        13,604          1\n",
      "std        33,729        58,778          0\n",
      "min             0             0          0\n",
      "25%         1,116           622          1\n",
      "50%         3,970         2,039          1\n",
      "75%        10,790         6,212          1\n",
      "max       620,285     1,893,770          1\n"
     ]
    }
   ],
   "source": [
    "# ***Merging 2012 and 2016 datasets - Preprocessing***\n",
    "# Before merging the two datasets, need to understand if they have the \n",
    "# same counties listed, or any extra rows that might generate erroneous results\n",
    "\n",
    "print df_2012_final.describe() # note dataframe has 4,588 counties\n",
    "print df_2016.describe() # note dataframe has *4,586* counties\n",
    "\n",
    "# First add a state-county key to the 2016 dataset to join them later\n",
    "df_2016_final['key'] = df_2016_final['state_abbreviation'] + ' ' + df_2016_final['County']\n",
    "# df_2016_final.head() # checking - OK\n",
    "\n",
    "# To find unmatched counties, add source keys\n",
    "key_2012 = pd.DataFrame(df_2012_final['key'])\n",
    "key_2012['Source'] = '2012_data'\n",
    "key_2016 = pd.DataFrame(df_2016_final['key'])\n",
    "key_2016['Source'] = '2016_data'\n",
    "\n",
    "# Next: Identify how many sources each row had - if it had two\n",
    "# that means it is in both list. If only 1, that means not common"
   ]
  },
  {
   "cell_type": "code",
   "execution_count": 526,
   "metadata": {
    "collapsed": false
   },
   "outputs": [],
   "source": [
    "def key_count(df1,df2,key_value):\n",
    "    '''Function takes two datasets, stacks them, and\n",
    "    determines how many instances there are of each key_value'''\n",
    "    df_keys = pd.concat([df1, df2])\n",
    "    key_counter = df_keys.groupby(key_value).count()\n",
    "    return key_counter"
   ]
  },
  {
   "cell_type": "code",
   "execution_count": 527,
   "metadata": {
    "collapsed": true
   },
   "outputs": [
    {
     "name": "stdout",
     "output_type": "stream",
     "text": [
      "                  Source\n",
      "key                     \n",
      "ME Bancroft            1\n",
      "SD Oglala Lakota       1\n",
      "SD Shannon             1\n",
      "VA Bedford City        1\n"
     ]
    }
   ],
   "source": [
    "# Find rows that only occurred in a single file\n",
    "no_matched_county = key_count(key_2012, key_2016,'key')\n",
    "print no_matched_county[no_matched_county['Source'] < 2]\n",
    "'''\n",
    "In first iteration, uncovered the following items as \n",
    "having only once source, that is, appearing\n",
    "in only one file. A couple of misspellings\n",
    "                         Source\n",
    "key                            \n",
    "DC DC                         1\n",
    "DC District of Columbia       1\n",
    "ME Bancroft                   1\n",
    "SD Oglala Lakota              1\n",
    "SD Shannon                    1\n",
    "VA Bedford City               1\n",
    "VT Alburg                     1\n",
    "VT Alburgh                    1\n",
    "\n",
    "I fixed DC and Alburg in the original datafiles, will drop other 4 rows \n",
    "in the dataset because they are small.\n",
    "'''\n",
    "\n",
    "# Dropping unmatching counties\n",
    "drop_list = ['ME Bancroft', 'SD Oglala Lakota', 'SD Shannon','VA Bedford City']\n",
    "df_2012_matched = df_2012_final[~df_2012_final.key.isin(drop_list)]\n",
    "df_2016_matched = df_2016_final[~df_2016_final.key.isin(drop_list)]\n",
    "\n",
    "# Data checking\n",
    "#print df_2012_matched.sum()\n",
    "#print df_2012_matched.describe()\n",
    "#print df_2016_matched.sum()\n",
    "#print df_2016_matched.describe()"
   ]
  },
  {
   "cell_type": "code",
   "execution_count": 535,
   "metadata": {
    "collapsed": false
   },
   "outputs": [],
   "source": [
    "# Hand check datasets in excel\n",
    "def output_xls(dataset,file,sheet):\n",
    "    writer = pd.ExcelWriter(file, engine='xlsxwriter')\n",
    "    dataset.to_excel(writer, sheet_name=sheet)\n",
    "    writer.save()\n",
    "    return None\n",
    "\n",
    "output_xls(df_2016_matched,'/Users/David/Github/Udacity_Data_Analysis/output_2016.xlsx','Sheet1')\n",
    "output_xls(df_2012_matched,'/Users/David/Github/Udacity_Data_Analysis/output_2012.xlsx','Sheet1')"
   ]
  },
  {
   "cell_type": "code",
   "execution_count": 536,
   "metadata": {
    "collapsed": true
   },
   "outputs": [
    {
     "name": "stdout",
     "output_type": "stream",
     "text": [
      "4585\n"
     ]
    }
   ],
   "source": [
    "# ***Merging datasets***\n",
    "vote_totals = pd.merge(df_2012_matched, df_2016_matched, how='inner', on='key')\n",
    "# Get rid of columns that aren't useful\n",
    "vote_totals.drop(vote_totals.columns[0:5], axis=1, inplace = True)\n",
    "vote_totals.drop(vote_totals.columns[7], axis=1, inplace = True)\n",
    "print len(vote_totals.index)\n",
    "# Verified as 4585 rows, by candidate, county, state\n",
    "\n",
    "# hand check in excel\n",
    "output_xls(vote_totals,'/Users/David/Github/Udacity_Data_Analysis/output_merged.xlsx','Sheet1')\n",
    "\n",
    "# Create new metrics for downstream analysis\n",
    "vote_totals['Obama-Romney'] = vote_totals['Obama_2012'] - vote_totals['Romney_2012']\n",
    "vote_totals['Clinton-Trump'] = vote_totals['Clinton_2016'] - vote_totals['Trump_2016']\n",
    "vote_totals['Clinton-Obama'] = vote_totals['Clinton_2016'] - vote_totals['Obama_2012']\n",
    "vote_totals['Trump-Romney'] = vote_totals['Trump_2016'] - vote_totals['Romney_2012']"
   ]
  },
  {
   "cell_type": "code",
   "execution_count": 551,
   "metadata": {
    "collapsed": true
   },
   "outputs": [
    {
     "name": "stdout",
     "output_type": "stream",
     "text": [
      "               total_votes\n",
      "Obama_2012      64,859,499\n",
      "Romney_2012     60,350,504\n",
      "Trump_2016      61,124,438\n",
      "Clinton_2016    62,387,291\n",
      "Obama-Romney     4,508,995\n",
      "Clinton-Trump    1,262,853\n",
      "Clinton-Obama   -2,472,208\n",
      "Trump-Romney       773,934\n",
      "Populating the interactive namespace from numpy and matplotlib\n"
     ]
    },
    {
     "data": {
      "image/png": "[encoded data removed]",
      "text/plain": [
       "<matplotlib.figure.Figure at 0x143126750>"
      ]
     },
     "metadata": {},
     "output_type": "display_data"
    }
   ],
   "source": [
    "# ***Analysis***\n",
    "# National Results\n",
    "national_totals = pd.DataFrame({'total_votes' : vote_totals.sum(axis=0,numeric_only = True)})\n",
    "print national_totals\n",
    "\n",
    "%pylab inline\n",
    "import matplotlib.pyplot as plt\n",
    "import seaborn as sns\n",
    "\n",
    "# plot of total votes\n",
    "natplot = national_totals.plot.bar(xlim=(60000000,65000000))\n",
    "natplot.legend_.remove()"
   ]
  },
  {
   "cell_type": "code",
   "execution_count": 492,
   "metadata": {
    "collapsed": false
   },
   "outputs": [],
   "source": [
    "def pct_maker(dataset,numer,denom):\n",
    "    percent_output = dataset[numer] / dataset[denom]\n",
    "    return percent_output"
   ]
  },
  {
   "cell_type": "code",
   "execution_count": 493,
   "metadata": {
    "collapsed": true
   },
   "outputs": [
    {
     "data": {
      "image/png": "[encoded data removed]",
      "text/plain": [
       "<matplotlib.figure.Figure at 0x147b5b6d0>"
      ]
     },
     "metadata": {},
     "output_type": "display_data"
    }
   ],
   "source": [
    "# State-level results\n",
    "# I am interested in whether Trump was able to bring out more voters \n",
    "# in key states. And, did Clinton's higher popular vote total come\n",
    "# from states she was sure to win (e.g., California)?\n",
    "\n",
    "state_totals = vote_totals.groupby('State',as_index = True).sum()\n",
    "state_totals['C-O-Pct'] = pct_maker(state_totals,'Clinton-Obama','Obama_2012')\n",
    "state_totals['T-R-Pct'] = pct_maker(state_totals,'Trump-Romney','Romney_2012')\n",
    "stateplot1 = state_totals['Trump-Romney'].plot.barh()\n",
    "pylab.rcParams['figure.figsize'] = (20, 10)"
   ]
  },
  {
   "cell_type": "code",
   "execution_count": 552,
   "metadata": {
    "collapsed": true
   },
   "outputs": [
    {
     "data": {
      "image/png": "[encoded data removed]",
      "text/plain": [
       "<matplotlib.figure.Figure at 0x146b08f50>"
      ]
     },
     "metadata": {},
     "output_type": "display_data"
    }
   ],
   "source": [
    "# Anayze only \"swing states\" - which have recently been competitive\n",
    "swing_states = ['Colorado','Pennsylvania','Virginia','Wisconsin','Michigan','Iowa',\n",
    "    'Ohio','Arizona','New Mexico','Florida','North Carolina','Nevada','Georgia']\n",
    "swing_state_totals = state_totals[state_totals.index.isin(swing_states)]\n",
    "swing_state_pct = swing_state_totals.drop(swing_state_totals[[0,1,2,3,4,5,6,7]], axis = 1)\n",
    "\n",
    "#print swing_state_pct # data checking - OK\n",
    "\n",
    "# Print plot showing how far Clinton ran behind Obama, and Trump ran vs. Romney, by swing state\n",
    "my_colors = ['r', 'b']\n",
    "swing_states_plot = swing_state_pct.plot.barh(color=my_colors)\n",
    "pylab.rcParams['figure.figsize'] = (20, 10)\n",
    "\n"
   ]
  },
  {
   "cell_type": "code",
   "execution_count": 557,
   "metadata": {
    "collapsed": true
   },
   "outputs": [
    {
     "name": "stdout",
     "output_type": "stream",
     "text": [
      "Pennsylvania State Totals:\n",
      "\n",
      "              Obama_2012  Romney_2012  Trump_2016  Clinton_2016  Obama-Romney  \\\n",
      "State                                                                           \n",
      "Pennsylvania   2,907,448    2,619,583     2912941       2844705       287,865   \n",
      "\n",
      "              Clinton-Trump  Clinton-Obama  Trump-Romney  T-R-Pct  C-O-Pct  \n",
      "State                                                                       \n",
      "Pennsylvania         -68236        -62,743       293,358        0       -0  \n",
      "\n",
      "\n",
      "\n",
      "\n",
      "\n",
      "\n",
      "Raw Votes by Candidate: \n",
      "                    Obama_2012  Romney_2012  Trump_2016  Clinton_2016\n",
      "Region                                                               \n",
      "Allegheny               90,576      150,617     174,617        81,823\n",
      "Amish Country          405,529      559,083     618,661       395,121\n",
      "Great Lakes            108,711      102,831     126,368        88,555\n",
      "Laurel Highlands       244,450      374,516     427,885       212,601\n",
      "Lehigh Valley          816,239      679,662     688,486       869,304\n",
      "Mountains              233,537      220,519     293,216       191,920\n",
      "Philadelphia           557,024       91,840     105,418       560,542\n",
      "Pittsburgh             348,151      259,304     257,488       363,017\n",
      "Susquehanna Valley      36,577       56,510      69,394        30,666\n",
      "Wilds                   66,654      124,701     151,408        51,156\n",
      "\n",
      "\n",
      "\n",
      "Differences among candidates:\n",
      "                    Obama-Romney  Clinton-Trump  Clinton-Obama  Trump-Romney  \\\n",
      "Region                                                                         \n",
      "Allegheny                -60,041        -92,794         -8,753        24,000   \n",
      "Amish Country           -153,554       -223,540        -10,408        59,578   \n",
      "Great Lakes                5,880        -37,813        -20,156        23,537   \n",
      "Laurel Highlands        -130,066       -215,284        -31,849        53,369   \n",
      "Lehigh Valley            136,577        180,818         53,065         8,824   \n",
      "Mountains                 13,018       -101,296        -41,617        72,697   \n",
      "Philadelphia             465,184        455,124          3,518        13,578   \n",
      "Pittsburgh                88,847        105,529         14,866        -1,816   \n",
      "Susquehanna Valley       -19,933        -38,728         -5,911        12,884   \n",
      "Wilds                    -58,047       -100,252        -15,498        26,707   \n",
      "\n",
      "                    C-O-Pct  \n",
      "Region                       \n",
      "Allegheny                -0  \n",
      "Amish Country            -0  \n",
      "Great Lakes              -0  \n",
      "Laurel Highlands         -0  \n",
      "Lehigh Valley             0  \n",
      "Mountains                -0  \n",
      "Philadelphia              0  \n",
      "Pittsburgh                0  \n",
      "Susquehanna Valley       -0  \n",
      "Wilds                    -0  \n"
     ]
    }
   ],
   "source": [
    "# Analyze county-level data in key swing states\n",
    "# Pennsylvania\n",
    "\n",
    "print 'Pennsylvania State Totals:' + '\\n'\n",
    "print state_totals[state_totals.index == 'Pennsylvania']\n",
    "print '\\n'*2\n",
    "\n",
    "pa_totals = vote_totals[vote_totals['state_name'] == ('Pennsylvania')]\n",
    "pa_totals_pct = pa_totals.drop(pa_totals[['key_2','State','state_abbreviation']], axis = 1)\n",
    "#recalculate percentages at county level\n",
    "pa_totals_pct['C-O-Pct'] = pct_maker(pa_totals_pct,'Clinton-Obama','Obama_2012')\n",
    "pa_totals_pct['T-R-Pct'] = pct_maker(pa_totals_pct,'Trump-Romney','Romney_2012')\n",
    "pd.set_option('display.max_rows', 500)\n",
    "\n",
    "# Add regions to Pennsylvania to simplify looking at 66 different counties\n",
    "pa_regions_file = pd.ExcelFile('/Users/David/Github/Udacity_Data_Analysis/pa_regions.xlsx')\n",
    "pa_regions = pa_regions_file.parse('Sheet1')\n",
    "pa_pct_withregion = pd.merge(pa_totals_pct, pa_regions, how='left', left_on = ['County'],\n",
    "    right_on = ['County'])\n",
    "\n",
    "pa_region_totals = pa_pct_withregion.groupby('Region',as_index = True).sum()\n",
    "pa_region_totals['C-O-Pct'] = pct_maker(pa_region_totals,'Clinton-Obama','Obama_2012')\n",
    "pa_region_totals['T-R-Pct'] = pct_maker(pa_region_totals,'Trump-Romney','Romney_2012')\n",
    "\n",
    "pd.options.display.float_format = '{:,.0f}'.format\n",
    "pa_region_totals['Trump_2016'] = float_maker(pa_region_totals,'Trump_2016')\n",
    "pa_region_totals['Clinton_2016'] = float_maker(pa_region_totals,'Clinton_2016')\n",
    "\n",
    "print '\\n'*2\n",
    "print 'Raw Votes by Candidate: '\n",
    "print pa_region_totals.ix[:,0:4] # raw votes by candidate\n",
    "print '\\n'*2\n",
    "print 'Differences among candidates:'\n",
    "print pa_region_totals.ix[:,4:9] # differences between candidates and years"
   ]
  },
  {
   "cell_type": "code",
   "execution_count": 579,
   "metadata": {
    "collapsed": true
   },
   "outputs": [
    {
     "name": "stdout",
     "output_type": "stream",
     "text": [
      "Wisconsin State Totals:\n",
      "           Obama_2012  Romney_2012  Trump_2016  Clinton_2016  Obama-Romney  \\\n",
      "State                                                                        \n",
      "Wisconsin   1,621,486    1,411,723     1409467       1382210       209,763   \n",
      "\n",
      "           Clinton-Trump  Clinton-Obama  Trump-Romney  T-R-Pct  C-O-Pct  \n",
      "State                                                                    \n",
      "Wisconsin         -27257       -239,276        -2,256       -0       -0  \n",
      "\n",
      "Wisconsin County Data: \n",
      "\n",
      "           County  Obama_2012  Romney_2012  Trump_2016  Clinton_2016\n",
      "4435        Adams       5,542        4,644       5,983         3,780\n",
      "4436      Ashland       5,399        2,820       3,428         4,136\n",
      "4437       Barron      10,890       11,443      13,595         7,881\n",
      "4438     Bayfield       6,033        3,606       4,125         4,953\n",
      "4439        Brown      62,526       64,836      67,192        53,358\n",
      "4440      Buffalo       3,570        3,364       4,049         2,531\n",
      "4441      Burnett       3,986        4,550       5,412         2,948\n",
      "4442      Calumet      11,489       14,539      15,345         9,634\n",
      "4443     Chippewa      15,237       15,371      17,912        11,875\n",
      "4444        Clark       6,173        7,412       8,645         4,225\n",
      "4445     Columbia      17,175       13,026      14,160        13,525\n",
      "4446     Crawford       4,629        3,067       3,844         3,426\n",
      "4447         Dane     216,071       83,644      71,270       217,506\n",
      "4448        Dodge      18,762       25,211      26,643        13,968\n",
      "4449         Door       9,357        8,121       8,584         8,026\n",
      "4450      Douglas      14,863        7,705       9,657        11,342\n",
      "4451         Dunn      11,316       10,224      11,487         9,025\n",
      "4452   Eau Claire      30,666       23,256      23,301        27,271\n",
      "4453     Florence         953        1,645       1,897           666\n",
      "4454  Fond du Lac      22,379       30,355      31,044        17,391\n",
      "4455       Forest       2,425        2,172       2,787         1,583\n",
      "4456        Grant      13,594       10,255      12,347        10,047\n",
      "4457        Green      11,206        7,857       8,693         9,121\n",
      "4458   Green Lake       3,793        5,782       6,210         2,700\n",
      "4459         Iowa       8,105        4,302       4,809         6,669\n",
      "4460         Iron       1,784        1,790       2,090         1,273\n",
      "4461      Jackson       5,298        3,900       4,907         3,821\n",
      "4462    Jefferson      20,158       23,517      23,409        16,559\n",
      "4463       Juneau       6,242        5,411       7,188         4,100\n",
      "4464      Kenosha      44,867       34,977      36,025        35,770\n",
      "4465     Kewaunee       5,153        5,747       6,616         3,623\n",
      "4466    La Crosse      36,693       25,751      26,384        32,402\n",
      "4467    Lafayette       4,536        3,314       3,977         3,288\n",
      "4468     Langlade       4,573        5,816       6,436         3,260\n",
      "4469      Lincoln       7,563        7,455       8,400         5,370\n",
      "4470    Manitowoc      20,403       21,604      23,234        14,563\n",
      "4471     Marathon      32,363       36,617      39,010        26,476\n",
      "4472    Marinette       9,882       10,619      12,995         6,243\n",
      "4473    Marquette       4,112        3,992       4,712         2,808\n",
      "4474    Menominee       1,191          179         269         1,003\n",
      "4475    Milwaukee     332,438      158,430     126,091       288,986\n",
      "4476       Monroe       9,515        9,675      11,442         7,047\n",
      "4477       Oconto       8,865       10,741      13,255         5,886\n",
      "4478       Oneida      10,452       10,917      11,677         8,103\n",
      "4479    Outagamie      45,659       47,372      51,579        38,117\n",
      "4480      Ozaukee      19,159       36,077      30,458        20,167\n",
      "4481        Pepin       1,876        1,794       2,228         1,345\n",
      "4482       Pierce      10,235       10,397      11,260         8,380\n",
      "4483         Polk      10,073       12,094      13,864         7,568\n",
      "4484      Portage      22,075       16,615      17,310        18,524\n",
      "4485        Price       3,887        3,884       4,562         2,671\n",
      "4486       Racine      53,008       49,347      46,620        42,506\n",
      "4487     Richland       4,969        3,575       4,021         3,577\n",
      "4488         Rock      49,219       30,517      31,483        39,336\n",
      "4489         Rusk       3,397        3,676       4,564         2,171\n",
      "4490    St. Croix      19,874       25,475      26,123        17,496\n",
      "4491         Sauk      18,736       12,838      15,871        16,050\n",
      "4492       Sawyer       4,486        4,442       4,625         2,846\n",
      "4493      Shawano       9,000       11,022      12,742         6,056\n",
      "4494    Sheboygan      28,356       34,282      32,368        22,636\n",
      "4495       Taylor       3,763        5,601       6,589         2,398\n",
      "4496  Trempealeau       7,605        5,707       7,370         5,645\n",
      "4497       Vernon       8,044        5,942       6,994         6,351\n",
      "4498        Vilas       5,951        7,749       8,169         4,769\n",
      "4499     Walworth      22,552       29,006      28,848        18,706\n",
      "4500     Washburn       4,447        4,699       5,404         3,283\n",
      "4501   Washington      23,166       54,765      51,729        20,854\n",
      "4502     Waukesha      78,779      162,798     145,519        79,199\n",
      "4503      Waupaca      11,578       14,002      16,013         8,303\n",
      "4504     Waushara       5,335        6,562       7,669         3,802\n",
      "4505    Winnebago      45,449       42,122      43,447        37,054\n",
      "4506         Wood      18,581       19,704      21,502        14,232\n",
      "\n",
      "Wisconsin Region Totals: \n",
      "\n",
      "                    Obama_2012  Romney_2012  Trump_2016  Clinton_2016\n",
      "Region                                                               \n",
      "Madison                216,071       83,644      71,270       217,506\n",
      "Milwaukee              332,438      158,430     126,091       288,986\n",
      "North Central          151,158      160,547     177,438       115,379\n",
      "Northeast              269,518      290,338     305,659       216,531\n",
      "Northwest              179,187      167,536     188,545       141,140\n",
      "South of Milwaukee      97,875       84,324      82,645        78,276\n",
      "Southeast              143,656      282,646     256,554       138,926\n",
      "Southwest              231,583      184,258     201,265       185,466\n"
     ]
    }
   ],
   "source": [
    "# Analyze county-level data in key swing states\n",
    "# Wisconsin - data above showed Trump didn't really gain many votes over Romney, but Clinton fell off.\n",
    "# Was that true everywhere throughout the state?\n",
    "print 'Wisconsin State Totals:'\n",
    "print state_totals[state_totals.index == 'Wisconsin']\n",
    "print\n",
    "\n",
    "wi_totals = vote_totals[vote_totals['state_name'] == ('Wisconsin')]\n",
    "wi_totals_pct = wi_totals.drop(wi_totals[['key_2','State','state_abbreviation']], axis = 1)\n",
    "#recalculate percentages at county level\n",
    "wi_totals_pct['C-O-Pct'] = wi_totals_pct['Clinton-Obama'] / wi_totals_pct['Obama_2012']\n",
    "wi_totals_pct['T-R-Pct'] = wi_totals_pct['Trump-Romney'] / wi_totals_pct['Romney_2012']\n",
    "pd.set_option('display.max_rows', 500)\n",
    "\n",
    "wi_totals_pct.set_index('County')\n",
    "\n",
    "cols = wi_totals_pct.columns.tolist()\n",
    "cols = cols[2:3] + cols[0:2] + cols[3:5]\n",
    "wi_totals_pct = wi_totals_pct.ix[:, cols]\n",
    "print 'Wisconsin County Data: ' + '\\n'\n",
    "print wi_totals_pct\n",
    "\n",
    "# Add regions to Wisconsin to simplify looking at 66 different counties\n",
    "wi_regions_file = pd.ExcelFile('/Users/David/Github/Udacity_Data_Analysis/wi_counties.xlsx')\n",
    "wi_regions = wi_regions_file.parse('Sheet1')\n",
    "wi_pct_withregion = pd.merge(wi_totals_pct, wi_regions, how='left', left_on = ['County'],\n",
    "    right_on = ['County'])\n",
    "\n",
    "wi_region_totals = wi_pct_withregion.groupby('Region',as_index = True).sum()\n",
    "print '\\n' + 'Wisconsin Region Totals: ' + '\\n'\n",
    "print wi_region_totals"
   ]
  },
  {
   "cell_type": "code",
   "execution_count": null,
   "metadata": {
    "collapsed": false
   },
   "outputs": [],
   "source": []
  }
 ],
 "metadata": {
  "anaconda-cloud": {},
  "celltoolbar": "Raw Cell Format",
  "kernelspec": {
   "display_name": "Python [default]",
   "language": "python",
   "name": "python2"
  },
  "language_info": {
   "codemirror_mode": {
    "name": "ipython",
    "version": 2
   },
   "file_extension": ".py",
   "mimetype": "text/x-python",
   "name": "python",
   "nbconvert_exporter": "python",
   "pygments_lexer": "ipython2",
   "version": "2.7.12"
  }
 },
 "nbformat": 4,
 "nbformat_minor": 1
}
